{
 "cells": [
  {
   "cell_type": "markdown",
   "metadata": {
    "id": "-My6RWLrhXIq"
   },
   "source": [
    "# Problem 1\n",
    "Sözlükleri kullanarak bir telefon rehberi yazın. Bu rehberde kullanıcıya kimin telefonunu görüntülemek istediğini sorun ve kullanıcının girdiği isme göre o kişinin telefon numarasını yazdırın. Proje sonunda elde edeceğiniz çıktı  şuna benzer olmalı:\n",
    "\n",
    "\n",
    "Lütfen numarasını öğrenmek istediğiniz kişinin adını girin: Ahmet\n",
    "\n",
    "Ahmet isimli kişinin numarası şu şekildedir: 0532 678 13 19"
   ]
  },
  {
   "cell_type": "code",
   "execution_count": 1,
   "metadata": {
    "id": "LHIQEhchhXIu"
   },
   "outputs": [
    {
     "name": "stdout",
     "output_type": "stream",
     "text": [
      "Ahmet 'in telefon numarasi 0532 678 13 19\n"
     ]
    }
   ],
   "source": [
    "# 1.Problemin Çözümünü Buraya Yazınız\n",
    "dict = {\"Ahmet\": \"0532 678 13 19\", \"Mehmet\":\"0532 109 87 76\"}\n",
    "kim = input(\"kimi aramak istiyorsunuz\").capitalize()\n",
    "print(kim,\"'in telefon numarasi\",dict[kim])"
   ]
  },
  {
   "cell_type": "markdown",
   "metadata": {
    "id": "rlgfjEi7hXIv"
   },
   "source": [
    "# Problem 2\n",
    "Sözlükleri kullanarak bir şirket çalışanları indeksi oluşturun. Bu isim indeksinde kişilerin isimleri key, kişilerin  memleket, yaş ve görev bilgileri value olmalıdır. Burada kullanacağımız value değerleri liste olmalıdır.\n",
    "\n",
    "\n",
    "Daha sonra bir isim sorgulama ekranı gibi kullanıcıya kimin bilgilerini görüntülemek istediğini \n",
    "sorun ve sorgulanan kişinin ekranda gösterilmesini sağlayın. Proje sonunda elde edeceğiniz çıktı şu şekilde olmalı:\n",
    "\n",
    "\n",
    "Lütfen bilgilerini görüntülemek istediğiniz çalışanın ismini girin: Mehmet Yağız\n",
    "\n",
    "Mehmet Yağız= Memleket: Adana Yaş: 40 Görev: Direktör"
   ]
  },
  {
   "cell_type": "code",
   "execution_count": 13,
   "metadata": {
    "id": "O09zrrs0hXIv"
   },
   "outputs": [
    {
     "name": "stdout",
     "output_type": "stream",
     "text": [
      "Ahmet hakkinda bilgiler şunlardir\n",
      "yaşi: 21\n",
      "mesleği: Muhasebeci\n",
      "memleketi: Ankara\n"
     ]
    }
   ],
   "source": [
    "# 2.Problemin Çözümünü Buraya Yazınız\n",
    "dict = {\"Ahmet\":( 21 , \"Muhasebeci\" ,\"Ankara\"),\n",
    "         \"Berat\":(35,\"Back-end geliştiricisi\", \"Bursa\")\n",
    "}\n",
    "kim = input(\"Kimi aratmak istiyorsunuz?\").capitalize()\n",
    "\n",
    "print(kim,\"hakkinda bilgiler şunlardir\")\n",
    "print(\"yaşi:\", dict[kim][0])\n",
    "print(\"mesleği:\", dict[kim][1])\n",
    "print(\"memleketi:\", dict[kim][2])"
   ]
  },
  {
   "cell_type": "markdown",
   "metadata": {
    "id": "G67ztXG-hXIw"
   },
   "source": [
    "# Problem 3\n",
    "\n",
    "3 öğrenciden oluşan bir öğrenci not sözlüğü oluşturun. Bu sözlükte öğrencilerin notları value olarak bir listede toplansın.\n",
    "\n",
    "Kullanıcıya hangi öğrencinin notlarını görmek istediğini sorun. Öğrencinin notu görüntülendiğinde program sonunda şöyle bir çıktı elde etmelisiniz:\n",
    "\n",
    "```\n",
    "Lütfen notlarını görmek istediğiniz öğrencinin adını girin: Mehmet\n",
    "\n",
    "Mehmet isimli öğrencinin      1.Sınav Notu:72\n",
    "                              2.Sınav Notu:66\n",
    "                              3.Sınav Notu:48\n",
    "Not Ortalaması: 62.0\n"
   ]
  },
  {
   "cell_type": "code",
   "execution_count": 15,
   "metadata": {
    "id": "TXQ_fuCHhXIw"
   },
   "outputs": [
    {
     "ename": "SyntaxError",
     "evalue": "invalid syntax. Perhaps you forgot a comma? (1519134384.py, line 9)",
     "output_type": "error",
     "traceback": [
      "\u001b[1;36m  Cell \u001b[1;32mIn[15], line 9\u001b[1;36m\u001b[0m\n\u001b[1;33m    \"\\n 1. Sinav notu\", dict[kim][0]\u001b[0m\n\u001b[1;37m                        ^\u001b[0m\n\u001b[1;31mSyntaxError\u001b[0m\u001b[1;31m:\u001b[0m invalid syntax. Perhaps you forgot a comma?\n"
     ]
    }
   ],
   "source": [
    "# 3.Problemin Çözümünü Buraya Yazınız\n",
    "dict = {\"ahmet\":(70,80,90)\n",
    "        \n",
    "\n",
    "}        \n",
    "kim = input(\"Kimin notlarina erişmek istiyorsunuz?\")\n",
    "ortalama= (dict[kim][0]+dict[kim][1]+ dict[kim][2])/3\n",
    "print(kim,\"adli öğrencinin notlari şunlardir:\"\n",
    "      \"\\n 1. Sinav notu\", dict[kim][0]\n",
    "      \"\\n 2. Sinav notu\", dict[kim][1]\n",
    "      \"\\n 3. Sinav Notu\", dict[kim][2]\n",
    "      \"\\n ortalamasi\", ortalama\n",
    "\n",
    ")\n"
   ]
  },
  {
   "cell_type": "markdown",
   "metadata": {
    "id": "oel6A5WFhXIw"
   },
   "source": [
    "# Problem 4"
   ]
  },
  {
   "cell_type": "code",
   "execution_count": null,
   "metadata": {
    "id": "jVRdspCrhXIx"
   },
   "outputs": [
    {
     "name": "stdout",
     "output_type": "stream",
     "text": [
      "ilk eleman: Bmw\n",
      "son eleman: Mazda\n",
      "Opel\n",
      "['Bmw', 'Mercedes', 'Opel']\n",
      "['Nissan', 'Renault', 'Toyota', 'Mercedes', 'Bmw']\n",
      "{'studentA': {'isim': 'Yiğit', 'soyIsim': 'Bilgi', 'dogumTarihi': 2010, 'notlari': '(70,60,70)'}, 'studentB': {'isim': 'Sena', 'soyIsim': 'Turan', 'dogumTarihi': 1999, 'notlari': '(80,80,70)'}, 'studentC': {'isim': 'Ahmet', 'soyIsim': 'Turan', 'dogumTarihi': 1998, 'notlari': '(80,70,90)'}}\n",
      "True\n"
     ]
    },
    {
     "data": {
      "text/plain": [
       "['bmw', 'opel', 'mercedes']"
      ]
     },
     "execution_count": 92,
     "metadata": {},
     "output_type": "execute_result"
    }
   ],
   "source": [
    "# 1-  \"Bmw, Mercedes, Opel, Mazda\" elemanlarına sahip bir liste oluşturunuz.\n",
    "list = [\"Bmw\",\"Mercedes\",\"Opel\",\"Mazda\"]\n",
    "# 2-  Liste Kaç elemanlıdır ?\n",
    "len(list)\n",
    "# 3-  Listenin ilk ve son elemanı nedir ?\n",
    "print(\"ilk eleman:\",list[0])\n",
    "print(\"son eleman:\",list[-1])\n",
    "# 4-  Mazda değerini Toyota ile değiştirin.\n",
    "list.insert(list.index(\"Mazda\"),\"Toyota\")\n",
    "list.pop(list.index(\"Mazda\"))\n",
    "# 5-  Listenin -2 indeksindeki değer nedir ?\n",
    "print(list[-2])\n",
    "# 6-  Listenin ilk 3 elemanını alın.\n",
    "print(list[0:3])\n",
    "# 7-  Listenin son 2 elemanı yerine \"Toyota\" ve \"Renault\" değerlerini ekleyin.\n",
    "list[-2:] = [\"Toyota\",\"Renault\"]\n",
    "# 8-  Listenin üzerine \"Audi\" ve \"Nissan\" değerlerini ekleyin.\n",
    "list += [\"Audi\",\"Nissan\"]\n",
    "# 9- Listenin son elemanını silin.\n",
    "list.pop(-1)\n",
    "# 10- Liste elemanlarını tersten yazdırınız.\n",
    "list.reverse()\n",
    "print(list)\n",
    "list.reverse()\n",
    "# 11- Aşağıdaki verileri bir liste içinde saklayınız. \n",
    "\n",
    "      # studentA: Yiğit Bilgi 2010, (70,60,70)\n",
    "      # studentB: Sena Turan  1999, (80,80,70)\n",
    "      # studentC: Ahmet Turan 1998, (80,70,90) :\n",
    "dict = {\"studentA\":{\"isim\":\"Yiğit\",\"soyIsim\":\"Bilgi\",\"dogumTarihi\":2010,\"notlari\":\"(70,60,70)\"},\n",
    "        \"studentB\":{\"isim\":\"Sena\",\"soyIsim\":\"Turan\",\"dogumTarihi\":1999,\"notlari\":\"(80,80,70)\"},\n",
    "        \"studentC\":{\"isim\":\"Ahmet\",\"soyIsim\":\"Turan\",\"dogumTarihi\":1998,\"notlari\":\"(80,70,90)\"}}\n",
    "\n",
    "\n",
    "# 12- Liste elemanlarını ekrana yazdırınız.\n",
    "print(dict)\n",
    "\n",
    "\n",
    "  \n",
    "names = ['Ali','Yağmur','Hakan','Deniz']\n",
    "years = [1998, 2000, 1998, 1987]\n",
    "\n",
    "# 13-  \"Cenk\" ismini listenin sonuna ekleyiniz.\n",
    "names.append(\"Cenk\")\n",
    "\n",
    "# 14-  \"Sena\" değerini listenin başına ekleyiniz.\n",
    "names.insert(0,\"Sena\")\n",
    "\n",
    "# 15-  \"Deniz\" ismini listeden siliniz.\n",
    "names.pop(names.index(\"Deniz\"))\n",
    "\n",
    "# 16-  \"Ali\" listenin bir elemanı mıdır ?\n",
    "print(\"Ali\"in names)\n",
    "\n",
    "# 17-  Liste elemanlarını ters çevirin.\n",
    "names.reverse()\n",
    "# 18-  Liste elemanlarını alfabetik olarak sıralayınız.\n",
    "names.sort()\n",
    "\n",
    "# 19-  years listesini rakamsal büyüklüğe göre sıralayınız.\n",
    "years.sort()\n",
    "years.reverse()\n",
    "# 20-  str = \"Chevrolet,Dacia\" karakter dizisini listeye çeviriniz.\n",
    "str = \"Chevrolet,Dacia\"\n",
    "list1 = str.split(\",\")\n",
    "\n",
    "\n",
    "# 21- years dizisinde kaç tane 1998 değeri vardır ?\n",
    "years.count(1998)\n",
    "# 22- years dizisinin tüm elemanlarını siliniz.\n",
    "years.clear()\n",
    "\n",
    "# 23- Kullanıcıdan alacağınız 3 tane marka bilgisini bir listede saklayınız.\n",
    "marka1 = input(\"Marka1'i giriniz.\")\n",
    "marka2 = input(\"Marka2'i giriniz.\")\n",
    "marka3 = input(\"Marka3'i giriniz.\")\n",
    "list2 = [marka1,marka2,marka3]\n"
   ]
  }
 ],
 "metadata": {
  "colab": {
   "provenance": []
  },
  "kernelspec": {
   "display_name": "Python 3",
   "language": "python",
   "name": "python3"
  },
  "language_info": {
   "codemirror_mode": {
    "name": "ipython",
    "version": 3
   },
   "file_extension": ".py",
   "mimetype": "text/x-python",
   "name": "python",
   "nbconvert_exporter": "python",
   "pygments_lexer": "ipython3",
   "version": "3.13.2"
  },
  "orig_nbformat": 4
 },
 "nbformat": 4,
 "nbformat_minor": 0
}
