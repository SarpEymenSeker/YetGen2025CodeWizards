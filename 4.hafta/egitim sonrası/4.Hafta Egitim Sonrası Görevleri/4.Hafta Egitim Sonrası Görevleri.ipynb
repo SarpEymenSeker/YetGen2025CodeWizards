{
 "cells": [
  {
   "cell_type": "markdown",
   "metadata": {},
   "source": [
    "# Problem 1\n",
    "`ogrenciler` adında bir sözlük oluşturunuz. Kullanıcıdan döngü yardımıyla 3 öğrenci için veri girmesini isteyerek öğrencilerin sırasıyla okul numarası, isim, soy isim, telefon numarası ve doğum tarihi bilgilerini alınız. Aldığınız öğrenci bilgilerini yine aynı döngü yardımıyla `ogrenciler` adındaki sözlükte saklayınız. Daha sonra öğrenci bilgilerinin bulunduğu sözlük yapısını ekrana bastırınız.\n",
    "\n"
   ]
  },
  {
   "cell_type": "code",
   "execution_count": 2,
   "metadata": {},
   "outputs": [
    {
     "name": "stdout",
     "output_type": "stream",
     "text": [
      "{0: {'No': '21421', 'İsim': '', 'Soy isim': '', 'Telefon Numarasi': '', 'Doğum tarihi': ''}, 1: {'No': '', 'İsim': '', 'Soy isim': '', 'Telefon Numarasi': '', 'Doğum tarihi': ''}, 2: {'No': '', 'İsim': '', 'Soy isim': '', 'Telefon Numarasi': '', 'Doğum tarihi': ''}}\n"
     ]
    }
   ],
   "source": [
    "# 1.Problemin Çözümünü Buraya Yazınız\n",
    "ogrenciler = {}\n",
    "for i in range(3):\n",
    "    okulNo = input(\"Okul numarasini giriniz: \")\n",
    "    isim = input(\"Öğrenci ismini giriniz: \")\n",
    "    soyISim = input(\"Soyismi giriniz: \")\n",
    "    tel = input(\"Telefon numaranizi giriniz: \")\n",
    "    dogumTarihi = input(\"Doğum tarihi (GG/AA/YYYY): \") \n",
    "    ogrenciler[i]={\n",
    "    \"No\" :okulNo,\n",
    "    \"İsim\" :isim,\n",
    "    \"Soy isim\" :soyISim,\n",
    "    \"Telefon Numarasi\" :tel,\n",
    "    \"Doğum tarihi\" :dogumTarihi,\n",
    "}\n",
    "print(ogrenciler)"
   ]
  },
  {
   "cell_type": "markdown",
   "metadata": {},
   "source": [
    "# Problem 2\n",
    "\n",
    "### a - Biraz ısınarak başlayalım!\n",
    "\n",
    "```\n",
    "numbers = [5,10,10,15,15,15,20,20,20,20]\n",
    "```\n",
    "\n",
    "Yukarıda `numbers` adında 10 elemanlı bir liste verilmiştir. Bu listenin her elemanını kontrol eden ve tekrar eden elemanları bir kez olacak şekilde başka bir listeye kopyalayan bir program yazınız. Son olarak oluşturduğunuz listeyi ekrana bastırınız.\n",
    "\n",
    "\n",
    "\n",
    "\n",
    "```\n",
    ">Output\n",
    "[5, 10, 15, 20]\n",
    "```\n"
   ]
  },
  {
   "cell_type": "code",
   "execution_count": 7,
   "metadata": {},
   "outputs": [
    {
     "name": "stdout",
     "output_type": "stream",
     "text": [
      "[5, 10, 15, 20]\n"
     ]
    }
   ],
   "source": [
    "# 2.Problemin a Şıkkının Çözümünü Buraya Yazınız\n",
    "numbers = [5,10,10,15,15,20,20,20,20]\n",
    "x = []\n",
    "for number in numbers :\n",
    "    if number in x:\n",
    "        continue\n",
    "    else:\n",
    "        x.append(number)\n",
    "\n",
    "print(x)"
   ]
  },
  {
   "cell_type": "markdown",
   "metadata": {},
   "source": [
    "### 🌶️ b) Hadi işi biraz daha zorlaştıralım! \n",
    "\n",
    "\n",
    "Şimdiyse senden `numbers` isimli listedeki tekrar eden elemanları `repeatNumbers` adındaki listeye; tekrar etmeyen elemanları `uniqueNumbers`adındaki listeye kopyalayan yazmanı ve listeleri ekrana bastırmanı bekliyoruz\n",
    "\n",
    "```\n",
    ">Output\n",
    "Tekrar Eden Elemanlar: [10, 10, 15, 15, 15, 20, 20, 20, 20]\n",
    "Tekrar Etmeyen Elemanlar: [5]\n",
    "```"
   ]
  },
  {
   "cell_type": "code",
   "execution_count": 13,
   "metadata": {},
   "outputs": [
    {
     "name": "stdout",
     "output_type": "stream",
     "text": [
      "Tekrarlaann sayilar [10, 15, 20]\n",
      "Tekrarlanmayan sayilar [5]\n"
     ]
    }
   ],
   "source": [
    "# 2.Problemin b Şıkkının Çözümünü Buraya Yazınız\n",
    "numbers = [5,10,10,15,15,20,20,20,20]\n",
    "repeatNumbers = []\n",
    "uniqueNumbers = []\n",
    "for num in numbers:\n",
    "    if numbers.count(num) >1 and num not in repeatNumbers:\n",
    "        repeatNumbers.append(num)\n",
    "    elif numbers.count(num) == 1 and num not in uniqueNumbers:\n",
    "        uniqueNumbers.append(num)\n",
    "print(\"Tekrarlaann sayilar\",repeatNumbers)\n",
    "print(\"Tekrarlanmayan sayilar\",uniqueNumbers)\n",
    "\n"
   ]
  },
  {
   "cell_type": "markdown",
   "metadata": {},
   "source": [
    "# Problem 3\n",
    "sn1 = {1,2,3,4,5}\n",
    "\n",
    "sn2 = {4,5,6,7,8}\n",
    "\n",
    " Verilen 2 adet küme için kesişimlerini, farklarını ve birleşimlerini bulunuz. "
   ]
  },
  {
   "cell_type": "code",
   "execution_count": null,
   "metadata": {},
   "outputs": [],
   "source": [
    "# 3.Problemin Çözümünü Buraya Yazınız\n",
    "sn1 = {1, 2, 3, 4, 5}\n",
    "sn2 = {4, 5, 6, 7, 8}\n",
    "\n",
    "küme_kesişim = []\n",
    "Küme_fark = []\n",
    "Küme_Birleşim = []\n",
    "\n",
    "# Kesişim\n",
    "for i in sn1:\n",
    "    for a in sn2:\n",
    "        if i == a:\n",
    "            küme_kesişim.append(i)\n",
    "\n",
    "# Birleşim\n",
    "Küme_Birleşim = sn1.union(sn2)\n",
    "\n",
    "# Fark\n",
    "for i in sn1:\n",
    "    if i not in sn2:\n",
    "        Küme_fark.append(i)\n",
    "\n",
    "print(\"Küme Kesişim:\", küme_kesişim)\n",
    "print(\"Küme Birleşim:\", Küme_Birleşim)\n",
    "print(\"Küme Fark (sn1 - sn2):\", Küme_fark)"
   ]
  },
  {
   "cell_type": "markdown",
   "metadata": {},
   "source": [
    "# Problem 4\n",
    "\n",
    "Buradaki işlemlerimizin tamamı stringler içindir. Aşağıda verilecek olan metodlar için kendinizin örnek yaratması gerekmektedir. \n",
    "\n",
    "Örneğin `upper` için `string` değişkeni oluştururken` k = \"BAC\"` şeklinde oluşturmayınız. Bunun yerine k değişkenini `k = \"bac`\" şeklinde oluşturmanız `upper` metodundaki değişimi görebilmeniz için daha iyi olacaktır.\n",
    "\n",
    "Bütün metodlardaki değişimin gözle görülür şekilde değişimi beklenmektedir.\n",
    "\n",
    "\n",
    "1- capitalize(), lower(), upper(), swapcase(), title(), replace()\n",
    "\n",
    "2- endswith(), startswith(), find(), index(), count()\n",
    "\n",
    "3- split(), strip(), join(), islower(), isalpha(), isdigit()\n",
    "\n",
    "\n",
    "Yukarıdaki `string` metodlarındaki değişimleri görebildiğimiz bir program yazınız.\n"
   ]
  },
  {
   "cell_type": "code",
   "execution_count": null,
   "metadata": {},
   "outputs": [],
   "source": [
    "# 4.Problemin Çözümünü Buraya Yazınız\n",
    "k = \"hello world\"\n",
    "m = \"python programming\"\n",
    "num = \"12345\"\n",
    "\n",
    "print(k.capitalize(), k.lower(), k.upper(), k.swapcase(), k.title(), k.replace(\"world\", \"python\"))\n",
    "print(k.endswith(\"world\"), m.endswith(\"java\"), k.startswith(\"hello\"), m.startswith(\"java\"))\n",
    "print(k.find(\"world\"), k.index(\"world\"), k.count(\"o\"))\n",
    "print(k.split(), k.strip(), \" \".join([\"hello\", \"world\"]), k.islower(), m.isalpha(), num.isdigit())\n"
   ]
  }
 ],
 "metadata": {
  "kernelspec": {
   "display_name": "Python 3",
   "language": "python",
   "name": "python3"
  },
  "language_info": {
   "codemirror_mode": {
    "name": "ipython",
    "version": 3
   },
   "file_extension": ".py",
   "mimetype": "text/x-python",
   "name": "python",
   "nbconvert_exporter": "python",
   "pygments_lexer": "ipython3",
   "version": "3.13.2"
  },
  "orig_nbformat": 4
 },
 "nbformat": 4,
 "nbformat_minor": 2
}
