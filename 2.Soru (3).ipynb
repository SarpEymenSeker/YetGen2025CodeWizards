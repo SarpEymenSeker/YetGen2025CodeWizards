{
 "cells": [
  {
   "cell_type": "markdown",
   "metadata": {
    "id": "SRQH1xliyf2c"
   },
   "source": [
    "# Problem 2\n",
    "Kullanıcıdan vize ve final notu isteyin. Girilen vize notunun %40’ı ve \n",
    "girilen final notunun ise %60’ı alınarak yıl sonu not ortalaması hesaplanacaktır. \n",
    "\n",
    "Bu not ortalaması eğer 85 ve üzeri ise AA, \n",
    "\n",
    "75 ve 85 arasında ise BA, \n",
    "\n",
    "70 ve 75 arasında ise BB, \n",
    "\n",
    "65 ve 70 arasında ise CB,\n",
    "\n",
    "60 ve 65 arasında ise CC,\n",
    "\n",
    "55 ve 60 arasında ise DC,\n",
    "\n",
    "50 ve 55 arasında ise DD olarak hesaplanacaktır. \n",
    "\n",
    "Bu öğrencinin yıl sonu toplam notu 50’nin altında ise FF ile dersten kalacaktır. \n",
    "\n",
    "Ayrıca öğrencinin final notu 50’nin altında ise direkt FF ile kalacaktır."
   ]
  },
  {
   "cell_type": "code",
   "execution_count": null,
   "metadata": {
    "id": "0LItFQ0zyjEs"
   },
   "outputs": [],
   "source": [
    "#Sorunun Çözmünü Buraya Gerçekleştirebilirsiniz\n",
    "vize = float(input(\"vize notunuzu giriniz: \"))\n",
    "final = float(input(\"final notunuzu giriniz: \"))\n",
    "vizeNotu = (vize/100)*40\n",
    "finalNotu = (final/100)*60\n",
    "toplam = finalNotu+vizeNotu\n",
    "if toplam>=85:\n",
    "    print(\"AA\")\n",
    "elif 75<= toplam <85:\n",
    "    print(\"BA\")\n",
    "elif 70<= toplam <75:\n",
    "    print(\"BB\")\n",
    "elif 65<= toplam <70:\n",
    "    print(\"CB\")\n",
    "elif 60<= toplam <65:\n",
    "    print(\"CC\")\n",
    "elif 55<= toplam <60:\n",
    "    print(\"DC\")\n",
    "elif 50<= toplam <55:\n",
    "    print(\"DD\")\n",
    "else : \n",
    "    print(\"FF\")\n"
   ]
  },
  {
   "cell_type": "code",
   "execution_count": 12,
   "metadata": {},
   "outputs": [
    {
     "name": "stdout",
     "output_type": "stream",
     "text": [
      "[(False, 'AA'), (False, 'AB')]\n"
     ]
    }
   ],
   "source": [
    "vize = float(input(\"vize notunuzu giriniz: \"))\n",
    "final = float(input(\"final notunuzu giriniz: \"))\n",
    "vizeNotu = vize*0.4\n",
    "finalNotu = final*0.6\n",
    "toplam = finalNotu+vizeNotu\n",
    "not_araliklari = [(toplam>=85,\"AA\"),(85>toplam>=80,\"AB\" )]\n",
    "print(not_araliklari)\n",
    "\n",
    "\n"
   ]
  }
 ],
 "metadata": {
  "colab": {
   "provenance": []
  },
  "kernelspec": {
   "display_name": "Python 3",
   "language": "python",
   "name": "python3"
  },
  "language_info": {
   "codemirror_mode": {
    "name": "ipython",
    "version": 3
   },
   "file_extension": ".py",
   "mimetype": "text/x-python",
   "name": "python",
   "nbconvert_exporter": "python",
   "pygments_lexer": "ipython3",
   "version": "3.13.2"
  },
  "orig_nbformat": 4,
  "vscode": {
   "interpreter": {
    "hash": "6491bbd3c7861498ceca5f810ff495ca48eaaad8857aa8ae48a42dff31e5d8e0"
   }
  }
 },
 "nbformat": 4,
 "nbformat_minor": 0
}
