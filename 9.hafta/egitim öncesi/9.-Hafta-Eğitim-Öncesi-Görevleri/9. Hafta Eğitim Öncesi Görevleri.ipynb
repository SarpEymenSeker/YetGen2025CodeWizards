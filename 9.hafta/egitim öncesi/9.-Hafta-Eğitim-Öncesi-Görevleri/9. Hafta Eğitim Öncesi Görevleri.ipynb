{
 "cells": [
  {
   "attachments": {},
   "cell_type": "markdown",
   "metadata": {},
   "source": [
    "# Problem 1"
   ]
  },
  {
   "cell_type": "code",
   "execution_count": 5,
   "metadata": {},
   "outputs": [
    {
     "name": "stdout",
     "output_type": "stream",
     "text": [
      "Matris: [6 5 1 6 9]\n",
      "Boyut (5,)\n",
      "Yeniden boyutlandirilmiş matris:\n",
      " [[6]\n",
      " [5]\n",
      " [1]\n",
      " [6]\n",
      " [9]]\n",
      "Boyut sayisi 2\n"
     ]
    }
   ],
   "source": [
    "# 1 - numpy kütüphanesini import edin\n",
    "import numpy as np\n",
    "\n",
    "# 2 - 0 ile 10 arasında 5 sayıdan oluşan matris üretin\n",
    "matris = np.random.randint(0,10, size=5)\n",
    "print(\"Matris:\", matris)\n",
    "# 3 - matris'in boyutunu öğrenin\n",
    "print(\"Boyut\", matris.shape)\n",
    "# 4 - matris'i yeniden boyutlandırın\n",
    "matris_reshaped = matris.reshape((5, 1))\n",
    "print(\"Yeniden boyutlandirilmiş matris:\\n\", matris_reshaped)\n",
    "# 5 - matris'in boyut sayısını öğrenin\n",
    "print(\"Boyut sayisi\", matris_reshaped.ndim)"
   ]
  },
  {
   "attachments": {},
   "cell_type": "markdown",
   "metadata": {},
   "source": [
    "# Problem 2"
   ]
  },
  {
   "cell_type": "code",
   "execution_count": 11,
   "metadata": {},
   "outputs": [
    {
     "name": "stdout",
     "output_type": "stream",
     "text": [
      "Orijinal Matris:\n",
      " [[1 3 5 7 9]]\n",
      "\n",
      "Parçalanmış Matrisler:\n",
      "Parça 1:\n",
      " [[1 3 5]]\n",
      "Parça 2:\n",
      " [[7 9]]\n",
      "\n",
      "Birleştirilmiş Matris:\n",
      " [[1 3 5 7 9]]\n"
     ]
    }
   ],
   "source": [
    "import numpy as np\n",
    "\n",
    "# 1 - 0 ile 10 arasında bulunan tek sayılardan oluşan matris üretin\n",
    "tek_sayilar = np.arange(1, 10, 2)  \n",
    "matris = tek_sayilar.reshape(1, -1)  \n",
    "print(\"Orijinal Matris:\\n\", matris)\n",
    "\n",
    "# 2 - Oluşturduğunuz matrisi parçalayın (örneğin 2 parçaya bölelim)\n",
    "parcalar = np.array_split(matris, 2, axis=1)  \n",
    "print(\"\\nParçalanmış Matrisler:\")\n",
    "for i, parca in enumerate(parcalar):\n",
    "    print(f\"Parça {i+1}:\\n\", parca)\n",
    "\n",
    "# 3 - Parçalanmış matrisleri birleştirin\n",
    "birlesmis_matris = np.hstack(parcalar)  \n",
    "print(\"\\nBirleştirilmiş Matris:\\n\", birlesmis_matris)\n"
   ]
  },
  {
   "attachments": {},
   "cell_type": "markdown",
   "metadata": {},
   "source": [
    "# Problem 3"
   ]
  },
  {
   "cell_type": "code",
   "execution_count": 12,
   "metadata": {},
   "outputs": [
    {
     "name": "stdout",
     "output_type": "stream",
     "text": [
      "Oluşturulan Matris:\n",
      " [[35 43 13 65 63]\n",
      " [75 67 27 85 71]]\n",
      "\n",
      "Matris Özellikleri:\n",
      "Şekli: (2, 5)\n",
      "Boyutu: 10\n",
      "Veri Tipi: int64\n",
      "Min Değer: 13\n",
      "Max Değer: 85\n",
      "Ortalama: 54.4\n",
      "Standart Sapma: 22.253988406575573\n"
     ]
    }
   ],
   "source": [
    "import numpy as np\n",
    "\n",
    "# 1 - 5 ile 100 arasında ikişer ikişer atlayarak rastgele 10 sayıdan oluşan matris üretin\n",
    "sayilar = np.arange(5, 101, 2)\n",
    "rastgele_sayilar = np.random.choice(sayilar, 10, replace=False)  \n",
    "matris = rastgele_sayilar.reshape(2, 5)  \n",
    "print(\"Oluşturulan Matris:\\n\", matris)\n",
    "\n",
    "# 2 - Matris'in özelliklerini inceleyin\n",
    "print(\"\\nMatris Özellikleri:\")\n",
    "print(f\"Şekli: {matris.shape}\")  \n",
    "print(f\"Boyutu: {matris.size}\")  \n",
    "print(f\"Veri Tipi: {matris.dtype}\")  \n",
    "print(f\"Min Değer: {matris.min()}\")  \n",
    "print(f\"Max Değer: {matris.max()}\")  \n",
    "print(f\"Ortalama: {matris.mean()}\")  \n",
    "print(f\"Standart Sapma: {matris.std()}\")  \n"
   ]
  }
 ],
 "metadata": {
  "kernelspec": {
   "display_name": "Python 3",
   "language": "python",
   "name": "python3"
  },
  "language_info": {
   "codemirror_mode": {
    "name": "ipython",
    "version": 3
   },
   "file_extension": ".py",
   "mimetype": "text/x-python",
   "name": "python",
   "nbconvert_exporter": "python",
   "pygments_lexer": "ipython3",
   "version": "3.13.2"
  },
  "orig_nbformat": 4,
  "vscode": {
   "interpreter": {
    "hash": "5026d2d6e7aaaaba093def813beadff083d8733e4a511af01735cbabd156995d"
   }
  }
 },
 "nbformat": 4,
 "nbformat_minor": 2
}
