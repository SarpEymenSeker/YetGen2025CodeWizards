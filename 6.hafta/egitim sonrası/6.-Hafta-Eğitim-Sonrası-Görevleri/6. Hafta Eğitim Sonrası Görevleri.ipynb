{
 "cells": [
  {
   "cell_type": "markdown",
   "metadata": {
    "id": "unoTPlV_tJOm"
   },
   "source": [
    "# Problem 1 \n",
    "Bir sayının çift olup olmadığını sorgulayan bir fonksiyon yazın. Bu fonksiyon, eğer sayı çift ise bu değeri dönsün. Ancak sayı tek sayı ise fonksiyon raise ile ValueError hatası oluştursun. Daha sonra, içinde çift ve tek sayılar bulunduran bir liste tanımlayın ve liste üzerinde gezinerek ekrana sadece çift sayıları bastırın."
   ]
  },
  {
   "cell_type": "code",
   "execution_count": 2,
   "metadata": {
    "id": "7oyBSeXptJOp"
   },
   "outputs": [
    {
     "name": "stdout",
     "output_type": "stream",
     "text": [
      "8\n",
      "12\n",
      "6\n"
     ]
    }
   ],
   "source": [
    "# 1.Problemin Çözümünü Buraya Yazınız \n",
    "def cift_mi(sayi):\n",
    "    if sayi % 2 == 0:\n",
    "        return sayi\n",
    "    else :\n",
    "        raise ValueError(f\"{sayi} bir cift sayi degildir.\")\n",
    "sayilar = [3, 5, 8, 9, 12, 15, 6, 3]\n",
    "for sayi in sayilar:\n",
    "    try:\n",
    "        sonuc = cift_mi(sayi)\n",
    "        print(sonuc)\n",
    "    except ValueError:\n",
    "        continue\n",
    "    \n"
   ]
  },
  {
   "cell_type": "markdown",
   "metadata": {
    "id": "CdfzJ2A9tJOq"
   },
   "source": [
    "# Problem 2\n",
    "\n",
    "2 YetGen lideri ders sırasında canları sıkılınca oyun oynamak isterler. Ancak hangi oyunu oynayacaklarına karar veremezler ve son olarak kendi oyunlarını yazmaya karar verirler.\n",
    "Liderlerimizin kodlamak istediği oyun kuralları şöyledir:\n",
    "- Oyunda random olarak 0 ile 100 arasında bir sayı tutulur.\n",
    "- Kullanıcıdan bilgisayarın tuttuğu sayıyı tahmin etmesi için bir sayı girmesini istenir.\n",
    "- Eğer kullanıcının girdiği sayı bulunması gereken sayıdan küçükse  tahmininizi yükseltin, büyükse tahmininizi düşürün şeklinde bir çıktı verilir.\n",
    "- Oyunun gerçeğe yakın olması için bilgisayarın çalışmasını simgelemek için 1 saniye bekleme süresi tanınır.\n",
    "- Kullanıcı 5 hakkı vardır. 5 hakkı da kullanıp sayıyı bulamazsa oyunu kaybeder."
   ]
  },
  {
   "cell_type": "code",
   "execution_count": 6,
   "metadata": {
    "id": "A1VEETgCtJOr"
   },
   "outputs": [
    {
     "name": "stdout",
     "output_type": "stream",
     "text": [
      "Sayi tahmin oyunu\n",
      "Yükleniyor\n",
      "Daha yüksek bir sayi\n",
      "Yükleniyor\n",
      "Daha yüksek bir sayi\n"
     ]
    },
    {
     "ename": "ValueError",
     "evalue": "invalid literal for int() with base 10: ''",
     "output_type": "error",
     "traceback": [
      "\u001b[1;31m---------------------------------------------------------------------------\u001b[0m",
      "\u001b[1;31mValueError\u001b[0m                                Traceback (most recent call last)",
      "Cell \u001b[1;32mIn[6], line 8\u001b[0m\n\u001b[0;32m      6\u001b[0m tahminHakki \u001b[38;5;241m=\u001b[39m \u001b[38;5;241m5\u001b[39m\n\u001b[0;32m      7\u001b[0m \u001b[38;5;28;01mwhile\u001b[39;00m \u001b[38;5;28;01mTrue\u001b[39;00m:\n\u001b[1;32m----> 8\u001b[0m     tahmin \u001b[38;5;241m=\u001b[39m \u001b[38;5;28;43mint\u001b[39;49m\u001b[43m(\u001b[49m\u001b[38;5;28;43minput\u001b[39;49m\u001b[43m(\u001b[49m\u001b[38;5;124;43m\"\u001b[39;49m\u001b[38;5;124;43mTahmninizi giriniz: \u001b[39;49m\u001b[38;5;124;43m\"\u001b[39;49m\u001b[43m)\u001b[49m\u001b[43m)\u001b[49m\n\u001b[0;32m      9\u001b[0m     \u001b[38;5;28;01mif\u001b[39;00m tahmin\u001b[38;5;241m<\u001b[39mrastgeleSayi:\n\u001b[0;32m     10\u001b[0m         tahminHakki\u001b[38;5;241m-\u001b[39m\u001b[38;5;241m=\u001b[39m\u001b[38;5;241m1\u001b[39m\n",
      "\u001b[1;31mValueError\u001b[0m: invalid literal for int() with base 10: ''"
     ]
    }
   ],
   "source": [
    "# 2.Problemin Çözümünü Buraya Yazınız\n",
    "import random \n",
    "import time\n",
    "print(\"Sayi tahmin oyunu\")\n",
    "rastgeleSayi = random.randint(1,100)\n",
    "tahminHakki = 5\n",
    "while True:\n",
    "    tahmin = int(input(\"Tahmninizi giriniz: \"))\n",
    "    if tahmin<rastgeleSayi:\n",
    "        tahminHakki-=1\n",
    "        print(\"Yükleniyor\")\n",
    "        time.sleep(1)\n",
    "        print(\"Daha yüksek bir sayi\")\n",
    "        \n",
    "\n",
    "    elif tahmin>rastgeleSayi:\n",
    "        tahminHakki-=1\n",
    "        print(\"Yükleniyor\")\n",
    "        time.sleep(1)\n",
    "        print(\"Daha düşük bir sayi giriniz\")\n",
    "        \n",
    "\n",
    "    elif tahminHakki ==0:\n",
    "        print(f\"tahmin hakkiniz bitti, doğru sayi {rastgeleSayi}'dü\")\n",
    "        break \n",
    "\n",
    "    else:\n",
    "        print(\"Yükleniyor\")\n",
    "        time.sleep(1)\n",
    "        print(\"Tebrikler doğru bildiniz\")\n",
    "    \n",
    "    "
   ]
  }
 ],
 "metadata": {
  "colab": {
   "provenance": []
  },
  "kernelspec": {
   "display_name": "Python 3",
   "language": "python",
   "name": "python3"
  },
  "language_info": {
   "codemirror_mode": {
    "name": "ipython",
    "version": 3
   },
   "file_extension": ".py",
   "mimetype": "text/x-python",
   "name": "python",
   "nbconvert_exporter": "python",
   "pygments_lexer": "ipython3",
   "version": "3.13.2"
  },
  "orig_nbformat": 4,
  "vscode": {
   "interpreter": {
    "hash": "5026d2d6e7aaaaba093def813beadff083d8733e4a511af01735cbabd156995d"
   }
  }
 },
 "nbformat": 4,
 "nbformat_minor": 0
}
