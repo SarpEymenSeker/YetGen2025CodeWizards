{
 "cells": [
  {
   "cell_type": "markdown",
   "metadata": {
    "id": "iynMkzK2ozgo"
   },
   "source": [
    "# Problem 1\n",
    "Kullanıcıdan bir sayı alınız. Sayı 0'dan büyükse pozitif , 0'dan küçükse negatif sıfıra eşitse sıfır yazdırınız."
   ]
  },
  {
   "cell_type": "code",
   "execution_count": 4,
   "metadata": {
    "id": "Y5eMYyiOozgw"
   },
   "outputs": [
    {
     "name": "stdout",
     "output_type": "stream",
     "text": [
      "Bu sayi nötr sayidir.\n"
     ]
    }
   ],
   "source": [
    "# 1.Problemin Çözümünü Buraya Yazınız\n",
    "sayi = int(input(\"Bir sayi giriniz: \"))\n",
    "if sayi > 0:\n",
    "    print(\"bu bir pozitif sayidir.\")\n",
    "elif sayi < 0 :\n",
    "    print(\"Bu bir negatif sayidir.\")\n",
    "else :\n",
    "    print(\"Bu sayi nötr sayidir.\")\n"
   ]
  },
  {
   "cell_type": "markdown",
   "metadata": {
    "id": "gUrFd7pgozgz"
   },
   "source": [
    " # Problem 2\n",
    "Kullanıcıdan aldığınız bir sayının mükemmel olup olmadığını bulmaya çalışın.\n",
    "Bir sayının kendi hariç bölenlerinin toplamı kendine eşitse bu sayıya \"mükemmel sayı\" denir. Örnek olarak, 6 mükemmel bir sayıdır. (1 + 2 + 3 = 6)\n"
   ]
  },
  {
   "cell_type": "code",
   "execution_count": null,
   "metadata": {
    "id": "Oc8lAzLaozg0"
   },
   "outputs": [
    {
     "name": "stdout",
     "output_type": "stream",
     "text": [
      "496 sayısı mükemmel sayıdır.\n"
     ]
    }
   ],
   "source": [
    "x = int(input(\"bir sayi giriniz:\"))\n",
    "sum = 0\n",
    "i = 1\n",
    "for i in range(1,x):\n",
    "    if x % i == 0:\n",
    "        sum += i\n",
    "    i += 1 #sonsuz döngüye girmemesi için dışına aldın\n",
    "    #if in içine girerse çalışmaz\n",
    "     #6,28,496 mükemmel sayılara örnektir.\n",
    "if sum == x:\n",
    "    print(x, \"sayısı mükemmel sayıdır.\")\n",
    "else:\n",
    "    print(x, \"sayısı mükemmel değildir.\")"
   ]
  },
  {
   "cell_type": "markdown",
   "metadata": {
    "id": "wU080UMcozg1"
   },
   "source": [
    " # Problem 3\n",
    "Kullanıcıdan aldığınız bir sayının \"Armstrong\" sayısı olup olmadığını bulmaya çalışın.\n",
    "Örnek olarak, Bir sayı eğer 4 basamaklı ise ve oluşturan rakamlardan herbirinin 4. kuvvetinin toplamı( 3 basamaklı sayılar için 3.kuvveti ) o sayıya eşitse bu sayıya \"Armstrong\" sayısı denir.\n",
    "\n",
    "Örnek olarak : 1634 = 1^4 + 6^4 + 3^4 + 4^4"
   ]
  },
  {
   "cell_type": "code",
   "execution_count": null,
   "metadata": {
    "id": "NF529iKaozg3"
   },
   "outputs": [
    {
     "name": "stdout",
     "output_type": "stream",
     "text": [
      "9474 bir Armstrong sayidir.\n"
     ]
    }
   ],
   "source": [
    "# 3.Problemin Çözümünü Buraya Yazınız\n",
    "sayi = int(input(\"4 ya da 3 haneli bir sayi giriniz: \"))\n",
    "string_sayi = str(sayi)\n",
    "if len(string_sayi) == 3:\n",
    "    sum = 0\n",
    "    for i in string_sayi:\n",
    "        i = int(i)\n",
    "        i = i**3                              #153,370,371,407 3 haneli Armstrong sayılara örnektir.\n",
    "        sum += i\n",
    "    if sum == sayi:\n",
    "        print(sayi, \"bir Armstrong sayisidir.\")\n",
    "    else: \n",
    "        print(sayi,\"Armstrong sayisi degildir.\")\n",
    "elif len(string_sayi) == 4:\n",
    "    sum = 0\n",
    "    for i in string_sayi:\n",
    "        i = int(i)\n",
    "        i = i**4                           #1634,8208,9474 4 haneli Armstrong sayılara örnektir.\n",
    "        sum+=i\n",
    "    if sum == sayi:\n",
    "        print(sayi,\"bir Armstrong sayidir.\")\n",
    "    else:\n",
    "        print(sayi,\"Armstrong sayi degildir\")\n",
    "\n",
    "\n"
   ]
  },
  {
   "cell_type": "code",
   "execution_count": 58,
   "metadata": {},
   "outputs": [
    {
     "name": "stdout",
     "output_type": "stream",
     "text": [
      "153 bir Armstrong sayisidir.\n"
     ]
    }
   ],
   "source": [
    "sayi = int(input(\"Bir sayi giriniz: \"))\n",
    "string_sayi = str(sayi)\n",
    "sum1 = 0\n",
    "for i in string_sayi:\n",
    "    sum2 = int(i) ** len(string_sayi)\n",
    "    sum1 += sum2\n",
    "\n",
    "if sum1 == sayi:\n",
    "    print(f\"{sayi} bir Armstrong sayisidir.\")\n",
    "else:\n",
    "    print(f\"{sayi} bir Armstrong sayisi değildir.\")\n",
    "\n"
   ]
  },
  {
   "cell_type": "markdown",
   "metadata": {
    "id": "4hSmU3Yoozg4"
   },
   "source": [
    "# Problem 4\n",
    "YetGen Core Python mezunu bir öğretmenimiz öğrencilerine 1'den 10'a kadar sayılarla çarpım tablosunu öğretirken Python'dan destek almak istiyor. Bu konuda öğretmenimize yardımcı olmak ister misin?\n",
    "\n",
    "İpucu: İç içe 2 tane for döngüsü kullanın. \n",
    "\n",
    "Aynı zamanda sayıları range() fonksiyonunu kullanarak elde edin."
   ]
  },
  {
   "cell_type": "code",
   "execution_count": 102,
   "metadata": {
    "id": "WsDvmcXgozg5"
   },
   "outputs": [
    {
     "name": "stdout",
     "output_type": "stream",
     "text": [
      "1 . 1 = 1\t2 . 1 = 2\t3 . 1 = 3\t4 . 1 = 4\t5 . 1 = 5\t6 . 1 = 6\t7 . 1 = 7\t8 . 1 = 8\t9 . 1 = 9\t10 . 1 = 10\t\n",
      "1 . 2 = 2\t2 . 2 = 4\t3 . 2 = 6\t4 . 2 = 8\t5 . 2 = 10\t6 . 2 = 12\t7 . 2 = 14\t8 . 2 = 16\t9 . 2 = 18\t10 . 2 = 20\t\n",
      "1 . 3 = 3\t2 . 3 = 6\t3 . 3 = 9\t4 . 3 = 12\t5 . 3 = 15\t6 . 3 = 18\t7 . 3 = 21\t8 . 3 = 24\t9 . 3 = 27\t10 . 3 = 30\t\n",
      "1 . 4 = 4\t2 . 4 = 8\t3 . 4 = 12\t4 . 4 = 16\t5 . 4 = 20\t6 . 4 = 24\t7 . 4 = 28\t8 . 4 = 32\t9 . 4 = 36\t10 . 4 = 40\t\n",
      "1 . 5 = 5\t2 . 5 = 10\t3 . 5 = 15\t4 . 5 = 20\t5 . 5 = 25\t6 . 5 = 30\t7 . 5 = 35\t8 . 5 = 40\t9 . 5 = 45\t10 . 5 = 50\t\n",
      "1 . 6 = 6\t2 . 6 = 12\t3 . 6 = 18\t4 . 6 = 24\t5 . 6 = 30\t6 . 6 = 36\t7 . 6 = 42\t8 . 6 = 48\t9 . 6 = 54\t10 . 6 = 60\t\n",
      "1 . 7 = 7\t2 . 7 = 14\t3 . 7 = 21\t4 . 7 = 28\t5 . 7 = 35\t6 . 7 = 42\t7 . 7 = 49\t8 . 7 = 56\t9 . 7 = 63\t10 . 7 = 70\t\n",
      "1 . 8 = 8\t2 . 8 = 16\t3 . 8 = 24\t4 . 8 = 32\t5 . 8 = 40\t6 . 8 = 48\t7 . 8 = 56\t8 . 8 = 64\t9 . 8 = 72\t10 . 8 = 80\t\n",
      "1 . 9 = 9\t2 . 9 = 18\t3 . 9 = 27\t4 . 9 = 36\t5 . 9 = 45\t6 . 9 = 54\t7 . 9 = 63\t8 . 9 = 72\t9 . 9 = 81\t10 . 9 = 90\t\n",
      "1 . 10 = 10\t2 . 10 = 20\t3 . 10 = 30\t4 . 10 = 40\t5 . 10 = 50\t6 . 10 = 60\t7 . 10 = 70\t8 . 10 = 80\t9 . 10 = 90\t10 . 10 = 100\t\n"
     ]
    }
   ],
   "source": [
    "# 4.Problemin Çözümünü Buraya Yazınız\n",
    "for i in range(1,11):\n",
    "    for k in range(1,11):\n",
    "        print(f\"{k} . {i} = {k*i}\", end=\"\\t\" ) \n",
    "    print()\n",
    "        "
   ]
  },
  {
   "cell_type": "markdown",
   "metadata": {
    "id": "jJpAhNPtozg7"
   },
   "source": [
    "# Problem 5\n",
    "Markete giren bir YetGen'li sıra beklememek için hızlı kasaya gider. Hızlı kasanın çalışma mantığı şu şekildedir:\n",
    "- Kullanıcının aldığı her ürünün fiyatını tek tek girmesi gerekir.\n",
    "- Kullanıcı kasadan çıkmak isterse q tuşuna basmalıdır.\n",
    "- Kasa girilen fiyatları son fiyat isimli değişkene ekler.\n",
    "- Değişkeni ekrana bastırır.\n",
    "\n",
    "İpucu: while döngüsünü sonsuz koşulla başlatın ve kullanıcı q'ya basarsa döngüyü break ile sonlandırın."
   ]
  },
  {
   "cell_type": "code",
   "execution_count": 135,
   "metadata": {
    "id": "Tr4QbmESozg9"
   },
   "outputs": [
    {
     "name": "stdout",
     "output_type": "stream",
     "text": [
      "toplam ücretiniz 155.0\n"
     ]
    }
   ],
   "source": [
    "# 5.Problemin Çözümünü Buraya Yazınız\n",
    "sum5 = 0\n",
    "while ürün != \"q\":\n",
    "    ürün = float(input(\"Ürünün ücretini giriniz: \"))\n",
    "    sum5 += ürün\n",
    "    durak = input(\"Başka ürününüz yoksa 'q' tuşuna basin\")\n",
    "    if durak == \"q\" :\n",
    "        break\n",
    "    \n",
    "print(\"toplam ücretiniz\", sum5)"
   ]
  },
  {
   "cell_type": "markdown",
   "metadata": {
    "id": "lqJyFt_Eozg-"
   },
   "source": [
    "# Problem 6\n",
    "1'den 100'e kadar olan sayılardan sadece 3'e bölünen sayıları ekrana bastırın. Bu işlemi continue ile yapmaya çalışın."
   ]
  },
  {
   "cell_type": "code",
   "execution_count": 137,
   "metadata": {
    "id": "0ZVgZqAQozg_"
   },
   "outputs": [
    {
     "name": "stdout",
     "output_type": "stream",
     "text": [
      "1\n",
      "2\n",
      "4\n",
      "5\n",
      "7\n",
      "8\n",
      "10\n",
      "11\n",
      "13\n",
      "14\n",
      "16\n",
      "17\n",
      "19\n",
      "20\n",
      "22\n",
      "23\n",
      "25\n",
      "26\n",
      "28\n",
      "29\n",
      "31\n",
      "32\n",
      "34\n",
      "35\n",
      "37\n",
      "38\n",
      "40\n",
      "41\n",
      "43\n",
      "44\n",
      "46\n",
      "47\n",
      "49\n",
      "50\n",
      "52\n",
      "53\n",
      "55\n",
      "56\n",
      "58\n",
      "59\n",
      "61\n",
      "62\n",
      "64\n",
      "65\n",
      "67\n",
      "68\n",
      "70\n",
      "71\n",
      "73\n",
      "74\n",
      "76\n",
      "77\n",
      "79\n",
      "80\n",
      "82\n",
      "83\n",
      "85\n",
      "86\n",
      "88\n",
      "89\n",
      "91\n",
      "92\n",
      "94\n",
      "95\n",
      "97\n",
      "98\n"
     ]
    }
   ],
   "source": [
    "# 6.Problemin Çözümünü Buraya Yazınız\n",
    "for i in range(1,100):\n",
    "    if i % 3 == 0:\n",
    "        continue\n",
    "    else:\n",
    "        print(i)\n"
   ]
  },
  {
   "cell_type": "markdown",
   "metadata": {
    "id": "eA2r49EjozhA"
   },
   "source": [
    "# Problem 7\n",
    "Bir YetGen Core Python mezunu MEF Üniversitesi'nde Bilgisayar Bilimleri Doktora programının mülakatına girmeye hak kazanıyor. Mülakata hazırlanırken internetten soru araştırıyor. Karşısına çıkan ünlü FizzBuzz sorusuna benzer YetGen sorusunda kendisini yeterince hazır hissetmiyor. Bu soruyu çözmesine destek olmak ister misin?\n",
    "\n",
    "Soru aşağıdaki gibidir:\n",
    "\n",
    "1’den 100’e kadar sayıları yazdırıyoruz. Ancak eğer sayı 3’e bölünüyor ise Yet, sayı 5’e bölünüyorsa Gen, hem 3’e hem 5’e bölünüyorsa YetGen yazdırıyoruz."
   ]
  },
  {
   "cell_type": "code",
   "execution_count": 141,
   "metadata": {
    "id": "Q3H7p6vnozhB"
   },
   "outputs": [
    {
     "name": "stdout",
     "output_type": "stream",
     "text": [
      "3 Yet\n",
      "5 Gen\n",
      "6 Yet\n",
      "9 Yet\n",
      "10 Gen\n",
      "12 Yet\n",
      "15 YetGen\n",
      "18 Yet\n",
      "20 Gen\n",
      "21 Yet\n",
      "24 Yet\n",
      "25 Gen\n",
      "27 Yet\n",
      "30 YetGen\n",
      "33 Yet\n",
      "35 Gen\n",
      "36 Yet\n",
      "39 Yet\n",
      "40 Gen\n",
      "42 Yet\n",
      "45 YetGen\n",
      "48 Yet\n",
      "50 Gen\n",
      "51 Yet\n",
      "54 Yet\n",
      "55 Gen\n",
      "57 Yet\n",
      "60 YetGen\n",
      "63 Yet\n",
      "65 Gen\n",
      "66 Yet\n",
      "69 Yet\n",
      "70 Gen\n",
      "72 Yet\n",
      "75 YetGen\n",
      "78 Yet\n",
      "80 Gen\n",
      "81 Yet\n",
      "84 Yet\n",
      "85 Gen\n",
      "87 Yet\n",
      "90 YetGen\n",
      "93 Yet\n",
      "95 Gen\n",
      "96 Yet\n",
      "99 Yet\n",
      "100 Gen\n"
     ]
    }
   ],
   "source": [
    "# 7.Problemin Çözümünü Buraya Yazınız\n",
    "for i in range(1,101):\n",
    "    if i % 5 == 0 and i % 3 == 0:\n",
    "        print(i,\"YetGen\")\n",
    "    elif i % 5 == 0:\n",
    "        print(i,\"Gen\")\n",
    "    elif i % 3 == 0: \n",
    "        print(i,\"Yet\")"
   ]
  }
 ],
 "metadata": {
  "colab": {
   "provenance": []
  },
  "kernelspec": {
   "display_name": "Python 3",
   "language": "python",
   "name": "python3"
  },
  "language_info": {
   "codemirror_mode": {
    "name": "ipython",
    "version": 3
   },
   "file_extension": ".py",
   "mimetype": "text/x-python",
   "name": "python",
   "nbconvert_exporter": "python",
   "pygments_lexer": "ipython3",
   "version": "3.13.2"
  },
  "orig_nbformat": 4
 },
 "nbformat": 4,
 "nbformat_minor": 0
}
