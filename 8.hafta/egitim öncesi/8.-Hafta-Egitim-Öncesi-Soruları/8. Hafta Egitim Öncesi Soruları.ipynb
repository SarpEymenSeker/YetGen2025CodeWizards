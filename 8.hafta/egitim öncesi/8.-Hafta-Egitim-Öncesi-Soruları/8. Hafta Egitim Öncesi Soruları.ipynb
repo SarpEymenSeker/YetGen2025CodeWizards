{
 "cells": [
  {
   "cell_type": "markdown",
   "metadata": {
    "id": "Pzh44PAE5H61"
   },
   "source": [
    "# Problem 1 \n",
    "Kullanıcıdan aldığı ürün bilgisini (ad, fiyat) urunler.txt dosyasına kayıt eden fonksiyonu yazınız."
   ]
  },
  {
   "cell_type": "code",
   "execution_count": null,
   "metadata": {
    "id": "uKw3Wap95H64"
   },
   "outputs": [],
   "source": [
    "# 1.Problemin Çözümünü Buraya Yazınız\n",
    "def kaydet():\n",
    "    ad = input(\"Ürünün adini giriniz: \")\n",
    "    fiyat = input(\"Ürünün fiyatini giriniz: \")\n",
    "    with open(\"urunler.txt\",\"a\",encoding=\"utf-8\") as file:\n",
    "        file.write(f\"{ad}, {fiyat}\\n\")\n",
    "    print(\"Ürün kaydedildi\")"
   ]
  },
  {
   "cell_type": "markdown",
   "metadata": {
    "id": "Lw7xy19D5H66"
   },
   "source": [
    "# Problem 2\n",
    "1.problemde oluşturulan text dosyası içerisinde kullanıcıdan alacağımız eski kelime isimli değişkene atadığımız \n",
    "ve değiştirilmesini istediğimiz kelimemizi yerini alıcak olan yeni kelime isimli değişkene atayın. Belirlenen kelimeleri text dosyasında değiştiren fonksiyonu yazınız."
   ]
  },
  {
   "cell_type": "code",
   "execution_count": null,
   "metadata": {
    "id": "jDlym3ko5H66"
   },
   "outputs": [],
   "source": [
    "# 2.Problemin Çözümünü Buraya Yazınız\n",
    "def degistir():\n",
    "    # Değiştirilecek kelime ve yeni kelimeyi kullanıcıdan al\n",
    "    eskiKelime = input(\"Değiştirmek istediğiniz kelimeyi girin: \")\n",
    "    yeniKelime = input(\"Yeni kelimeyi girin: \")\n",
    "\n",
    "    try:\n",
    "        # Dosyayı oku\n",
    "        with open(\"urunler.txt\", \"r\", encoding=\"utf-8\") as dosya:\n",
    "            icerik = dosya.read()\n",
    "\n",
    "        # Kelime değişimini yap\n",
    "        yeni_icerik = icerik.replace(eskiKelime, yeniKelime)\n",
    "\n",
    "        # Güncellenmiş içeriği tekrar dosyaya yaz\n",
    "        with open(\"urunler.txt\", \"w\", encoding=\"utf-8\") as dosya:\n",
    "            dosya.write(yeni_icerik)\n",
    "\n",
    "        print(\"Kelime başariyla değiştirildi.\")\n",
    "    except FileNotFoundError:\n",
    "        print(\"Dosya bulunamadi. Lütfen önce ürün kaydedin.\")\n"
   ]
  },
  {
   "cell_type": "markdown",
   "metadata": {
    "id": "3aSYk4FF5H67"
   },
   "source": [
    "# Problem 3\n",
    "Vehicle sınıfının tüm değişkenlerini ve yöntemlerini devralacak bir alt sınıf olarak Bus sınıfı oluşturunuz.\n",
    "\n",
    "\n",
    "\n",
    "```\n",
    "Output\n",
    "> Name: School Volvo Speed: 180 Mileage: 12\n",
    "```\n"
   ]
  },
  {
   "cell_type": "code",
   "execution_count": null,
   "metadata": {
    "id": "PwCI6Xkb5H68"
   },
   "outputs": [],
   "source": [
    "# 3.Problemin Çözümünü Buraya Yazınız\n"
   ]
  }
 ],
 "metadata": {
  "colab": {
   "provenance": []
  },
  "kernelspec": {
   "display_name": "Python 3",
   "language": "python",
   "name": "python3"
  },
  "language_info": {
   "codemirror_mode": {
    "name": "ipython",
    "version": 3
   },
   "file_extension": ".py",
   "mimetype": "text/x-python",
   "name": "python",
   "nbconvert_exporter": "python",
   "pygments_lexer": "ipython3",
   "version": "3.10.5"
  },
  "orig_nbformat": 4,
  "vscode": {
   "interpreter": {
    "hash": "5026d2d6e7aaaaba093def813beadff083d8733e4a511af01735cbabd156995d"
   }
  }
 },
 "nbformat": 4,
 "nbformat_minor": 0
}
