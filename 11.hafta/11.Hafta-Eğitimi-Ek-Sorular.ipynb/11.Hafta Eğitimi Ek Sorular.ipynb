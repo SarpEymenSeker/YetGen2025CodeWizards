{
 "cells": [
  {
   "attachments": {},
   "cell_type": "markdown",
   "metadata": {},
   "source": [
    "# Problem 1 \n",
    "Seaborn kütüphanesi içerisinden Titanic veri setini tanımlayınız."
   ]
  },
  {
   "cell_type": "code",
   "execution_count": 3,
   "metadata": {},
   "outputs": [
    {
     "name": "stdout",
     "output_type": "stream",
     "text": [
      "   survived  pclass     sex   age  sibsp  parch     fare embarked  class  \\\n",
      "0         0       3    male  22.0      1      0   7.2500        S  Third   \n",
      "1         1       1  female  38.0      1      0  71.2833        C  First   \n",
      "2         1       3  female  26.0      0      0   7.9250        S  Third   \n",
      "3         1       1  female  35.0      1      0  53.1000        S  First   \n",
      "4         0       3    male  35.0      0      0   8.0500        S  Third   \n",
      "\n",
      "     who  adult_male deck  embark_town alive  alone  \n",
      "0    man        True  NaN  Southampton    no  False  \n",
      "1  woman       False    C    Cherbourg   yes  False  \n",
      "2  woman       False  NaN  Southampton   yes   True  \n",
      "3  woman       False    C  Southampton   yes  False  \n",
      "4    man        True  NaN  Southampton    no   True  \n"
     ]
    }
   ],
   "source": [
    "# 1.Problemin Çözümünü Buraya Yazınız\n",
    "import seaborn as sns\n",
    "\n",
    "titanic = sns.load_dataset(\"titanic\")\n",
    "print(titanic.head())\n"
   ]
  },
  {
   "attachments": {},
   "cell_type": "markdown",
   "metadata": {},
   "source": [
    "# Problem 2\n",
    "Titanic veri setindeki kadın ve erkek yolcuların sayısını bulunuz."
   ]
  },
  {
   "cell_type": "code",
   "execution_count": 4,
   "metadata": {},
   "outputs": [
    {
     "name": "stdout",
     "output_type": "stream",
     "text": [
      "sex\n",
      "male      577\n",
      "female    314\n",
      "Name: count, dtype: int64\n"
     ]
    }
   ],
   "source": [
    "# 2.Problemin Çözümünü Buraya Yazınız\n",
    "import seaborn as sns\n",
    "titanic = sns.load_dataset(\"titanic\")\n",
    "gender = titanic['sex'].value_counts()\n",
    "print(gender)"
   ]
  },
  {
   "attachments": {},
   "cell_type": "markdown",
   "metadata": {},
   "source": [
    "# Problem 3\n",
    "Her bir sutuna ait unique değerlerin sayısını bulunuz."
   ]
  },
  {
   "cell_type": "code",
   "execution_count": 5,
   "metadata": {},
   "outputs": [
    {
     "name": "stdout",
     "output_type": "stream",
     "text": [
      "survived         2\n",
      "pclass           3\n",
      "sex              2\n",
      "age             88\n",
      "sibsp            7\n",
      "parch            7\n",
      "fare           248\n",
      "embarked         3\n",
      "class            3\n",
      "who              3\n",
      "adult_male       2\n",
      "deck             7\n",
      "embark_town      3\n",
      "alive            2\n",
      "alone            2\n",
      "dtype: int64\n"
     ]
    }
   ],
   "source": [
    "# 3.Problemin Çözümünü Buraya Yazınız\n",
    "import seaborn as sns\n",
    "titanic = sns.load_dataset(\"titanic\")\n",
    "uniqueValue = titanic.nunique()\n",
    "print(uniqueValue)"
   ]
  },
  {
   "attachments": {},
   "cell_type": "markdown",
   "metadata": {},
   "source": [
    "# Problem 4\n",
    "pclass değişkeninin unique değerlerinin sayısını bulunuz."
   ]
  },
  {
   "cell_type": "code",
   "execution_count": 7,
   "metadata": {},
   "outputs": [
    {
     "name": "stdout",
     "output_type": "stream",
     "text": [
      "3\n"
     ]
    }
   ],
   "source": [
    "# 4.Problemin Çözümünü Buraya Yazınız\n",
    "import seaborn as sns\n",
    "titanic = sns.load_dataset(\"titanic\")\n",
    "uniquePclass = titanic['pclass'].nunique()\n",
    "print(uniquePclass)"
   ]
  },
  {
   "attachments": {},
   "cell_type": "markdown",
   "metadata": {},
   "source": [
    "# Problem 5\n",
    "pclass ve parch değişkenlerinin unique değerlerinin sayısını bulunuz"
   ]
  },
  {
   "cell_type": "code",
   "execution_count": 8,
   "metadata": {},
   "outputs": [
    {
     "name": "stdout",
     "output_type": "stream",
     "text": [
      "3\n",
      "7\n"
     ]
    }
   ],
   "source": [
    "# 5.Problemin Çözümünü Buraya Yazınız\n",
    "import seaborn as sns\n",
    "titanic = sns.load_dataset(\"titanic\")\n",
    "uniquePclass = titanic['pclass'].nunique()\n",
    "uniqueParch = titanic['parch'].nunique()\n",
    "print(uniquePclass)\n",
    "print(uniqueParch)"
   ]
  },
  {
   "attachments": {},
   "cell_type": "markdown",
   "metadata": {},
   "source": [
    "# Problem 6\n",
    "embarked değişkeninin tipini kontrol ediniz. Tipini category olarak değiştiriniz ve tekrar kontrol ediniz."
   ]
  },
  {
   "cell_type": "code",
   "execution_count": 10,
   "metadata": {},
   "outputs": [
    {
     "name": "stdout",
     "output_type": "stream",
     "text": [
      "Embarked değişkeninin tipi object\n",
      "Embarked değişkeninin tipi category olarak değiştirildi:  category\n"
     ]
    }
   ],
   "source": [
    "# 6.Problemin Çözümünü Buraya Yazınız\n",
    "import seaborn as sns\n",
    "titanic = sns.load_dataset(\"titanic\")\n",
    "print(\"Embarked değişkeninin tipi\", titanic['embarked'].dtype)\n",
    "titanic['embarked'] = titanic['embarked'].astype('category')\n",
    "print(\"Embarked değişkeninin tipi category olarak değiştirildi: \",titanic['embarked'].dtype)"
   ]
  },
  {
   "attachments": {},
   "cell_type": "markdown",
   "metadata": {},
   "source": [
    "# Problem 7\n",
    "embarked değeri C olanların tüm bilgilerini gösteriniz."
   ]
  },
  {
   "cell_type": "code",
   "execution_count": 11,
   "metadata": {},
   "outputs": [
    {
     "name": "stdout",
     "output_type": "stream",
     "text": [
      "     survived  pclass     sex   age  sibsp  parch     fare embarked   class  \\\n",
      "1           1       1  female  38.0      1      0  71.2833        C   First   \n",
      "9           1       2  female  14.0      1      0  30.0708        C  Second   \n",
      "19          1       3  female   NaN      0      0   7.2250        C   Third   \n",
      "26          0       3    male   NaN      0      0   7.2250        C   Third   \n",
      "30          0       1    male  40.0      0      0  27.7208        C   First   \n",
      "..        ...     ...     ...   ...    ...    ...      ...      ...     ...   \n",
      "866         1       2  female  27.0      1      0  13.8583        C  Second   \n",
      "874         1       2  female  28.0      1      0  24.0000        C  Second   \n",
      "875         1       3  female  15.0      0      0   7.2250        C   Third   \n",
      "879         1       1  female  56.0      0      1  83.1583        C   First   \n",
      "889         1       1    male  26.0      0      0  30.0000        C   First   \n",
      "\n",
      "       who  adult_male deck embark_town alive  alone  \n",
      "1    woman       False    C   Cherbourg   yes  False  \n",
      "9    child       False  NaN   Cherbourg   yes  False  \n",
      "19   woman       False  NaN   Cherbourg   yes   True  \n",
      "26     man        True  NaN   Cherbourg    no   True  \n",
      "30     man        True  NaN   Cherbourg    no   True  \n",
      "..     ...         ...  ...         ...   ...    ...  \n",
      "866  woman       False  NaN   Cherbourg   yes  False  \n",
      "874  woman       False  NaN   Cherbourg   yes  False  \n",
      "875  child       False  NaN   Cherbourg   yes   True  \n",
      "879  woman       False    C   Cherbourg   yes  False  \n",
      "889    man        True    C   Cherbourg   yes   True  \n",
      "\n",
      "[168 rows x 15 columns]\n"
     ]
    }
   ],
   "source": [
    "# 7.Problemin Çözümünü Buraya Yazınız\n",
    "import seaborn as sns\n",
    "titanic = sns.load_dataset(\"titanic\")\n",
    "embarkedC = titanic[titanic['embarked'] == 'C']\n",
    "print(embarkedC)"
   ]
  },
  {
   "attachments": {},
   "cell_type": "markdown",
   "metadata": {},
   "source": [
    "# Problem 8\n",
    "embarked değeri S olmayanların tüm bilgelerini gösteriniz."
   ]
  },
  {
   "cell_type": "code",
   "execution_count": 12,
   "metadata": {},
   "outputs": [
    {
     "name": "stdout",
     "output_type": "stream",
     "text": [
      "     survived  pclass     sex   age  sibsp  parch     fare embarked   class  \\\n",
      "0           0       3    male  22.0      1      0   7.2500        S   Third   \n",
      "2           1       3  female  26.0      0      0   7.9250        S   Third   \n",
      "3           1       1  female  35.0      1      0  53.1000        S   First   \n",
      "4           0       3    male  35.0      0      0   8.0500        S   Third   \n",
      "6           0       1    male  54.0      0      0  51.8625        S   First   \n",
      "..        ...     ...     ...   ...    ...    ...      ...      ...     ...   \n",
      "883         0       2    male  28.0      0      0  10.5000        S  Second   \n",
      "884         0       3    male  25.0      0      0   7.0500        S   Third   \n",
      "886         0       2    male  27.0      0      0  13.0000        S  Second   \n",
      "887         1       1  female  19.0      0      0  30.0000        S   First   \n",
      "888         0       3  female   NaN      1      2  23.4500        S   Third   \n",
      "\n",
      "       who  adult_male deck  embark_town alive  alone  \n",
      "0      man        True  NaN  Southampton    no  False  \n",
      "2    woman       False  NaN  Southampton   yes   True  \n",
      "3    woman       False    C  Southampton   yes  False  \n",
      "4      man        True  NaN  Southampton    no   True  \n",
      "6      man        True    E  Southampton    no   True  \n",
      "..     ...         ...  ...          ...   ...    ...  \n",
      "883    man        True  NaN  Southampton    no   True  \n",
      "884    man        True  NaN  Southampton    no   True  \n",
      "886    man        True  NaN  Southampton    no   True  \n",
      "887  woman       False    B  Southampton   yes   True  \n",
      "888  woman       False  NaN  Southampton    no  False  \n",
      "\n",
      "[644 rows x 15 columns]\n"
     ]
    }
   ],
   "source": [
    "# 8.Problemin Çözümünü Buraya Yazınız\n",
    "import seaborn as sns \n",
    "titanic = sns.load_dataset(\"titanic\")\n",
    "embarked_except_S = titanic[titanic['embarked'] == 'S']\n",
    "print(embarked_except_S)"
   ]
  },
  {
   "attachments": {},
   "cell_type": "markdown",
   "metadata": {},
   "source": [
    "# Problem 9\n",
    "\n",
    "Yaşı 30 dan küçük ve kadın olan yolcuların tüm bilgilerini gösteriniz."
   ]
  },
  {
   "cell_type": "code",
   "execution_count": 16,
   "metadata": {},
   "outputs": [
    {
     "name": "stdout",
     "output_type": "stream",
     "text": [
      "Empty DataFrame\n",
      "Columns: [survived, pclass, sex, age, sibsp, parch, fare, embarked, class, who, adult_male, deck, embark_town, alive, alone]\n",
      "Index: []\n"
     ]
    }
   ],
   "source": [
    "# 9.Problemin Çözümünü Buraya Yazınız\n",
    "import seaborn as sns\n",
    "titanic = sns.load_dataset(\"titanic\")\n",
    "young_lady = titanic[(titanic['age'] <30) & titanic['sex'] == 'female']\n",
    "print(young_lady)"
   ]
  },
  {
   "attachments": {},
   "cell_type": "markdown",
   "metadata": {},
   "source": [
    "# Problem 10\n",
    "Fare'i 500'den büyük veya yaşı 70’den büyük yolcuların bilgilerini gösteriniz"
   ]
  },
  {
   "cell_type": "code",
   "execution_count": 18,
   "metadata": {},
   "outputs": [
    {
     "name": "stdout",
     "output_type": "stream",
     "text": [
      "Empty DataFrame\n",
      "Columns: [survived, pclass, sex, age, sibsp, parch, fare, embarked, class, who, adult_male, deck, embark_town, alive, alone]\n",
      "Index: []\n"
     ]
    }
   ],
   "source": [
    "# 10.Problemin Çözümünü Buraya Yazınız\n",
    "import seaborn as sns \n",
    "titanic = sns.load_dataset(\"titanic\")\n",
    "fare_or_age_criteria_passengers = titanic[(titanic['fare']> 500) | titanic['age']>70]\n",
    "print(fare_or_age_criteria_passengers)"
   ]
  },
  {
   "attachments": {},
   "cell_type": "markdown",
   "metadata": {},
   "source": [
    "# Problem 11\n",
    "Her bir değişkendeki boş değerlerin toplamını bulunuz."
   ]
  },
  {
   "cell_type": "code",
   "execution_count": 19,
   "metadata": {},
   "outputs": [
    {
     "name": "stdout",
     "output_type": "stream",
     "text": [
      "survived         0\n",
      "pclass           0\n",
      "sex              0\n",
      "age            177\n",
      "sibsp            0\n",
      "parch            0\n",
      "fare             0\n",
      "embarked         2\n",
      "class            0\n",
      "who              0\n",
      "adult_male       0\n",
      "deck           688\n",
      "embark_town      2\n",
      "alive            0\n",
      "alone            0\n",
      "dtype: int64\n"
     ]
    }
   ],
   "source": [
    "# 11.Problemin Çözümünü Buraya Yazınız\n",
    "import seaborn as sns \n",
    "titanic = sns.load_dataset(\"titanic\")\n",
    "missing_values = titanic.isnull().sum()\n",
    "print(missing_values)"
   ]
  }
 ],
 "metadata": {
  "kernelspec": {
   "display_name": "Python 3",
   "language": "python",
   "name": "python3"
  },
  "language_info": {
   "codemirror_mode": {
    "name": "ipython",
    "version": 3
   },
   "file_extension": ".py",
   "mimetype": "text/x-python",
   "name": "python",
   "nbconvert_exporter": "python",
   "pygments_lexer": "ipython3",
   "version": "3.13.2"
  },
  "orig_nbformat": 4,
  "vscode": {
   "interpreter": {
    "hash": "5026d2d6e7aaaaba093def813beadff083d8733e4a511af01735cbabd156995d"
   }
  }
 },
 "nbformat": 4,
 "nbformat_minor": 2
}
